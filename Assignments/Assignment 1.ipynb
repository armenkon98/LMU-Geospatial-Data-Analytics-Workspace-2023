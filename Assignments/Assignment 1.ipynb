{
 "cells": [
  {
   "cell_type": "markdown",
   "id": "d7974349",
   "metadata": {},
   "source": [
    "# Exercise 2.1 - Getting started with Python\n",
    "The goal of this exercise is to print text like that below to the screen based on variable values you define.\n",
    "\n",
    " My name is Brianna and I give eating ice cream a score of 9 out of 10!\n",
    " My sleeping enjoyment rating is 8 / 10!\n",
    " Based on the factors above, my happiness rating is 8.5 out of 10 or 85.0 %!\n",
    "\n",
    "For this exercise you should:\n",
    "- Create three variables: one integer value (whole number) for your ice cream rating, another integer for your sleeping rating, and a character string for your first name.\n",
    "- Calculate the average of the two ratings. Store the result in a variable for your happiness.\n",
    "- Find the data type of each of the variables you have defined. Are there any surprises?\n",
    "- Reproduce your version of the example text using the print() function and the variables you have defined. Note that you may need to be careful combining text and numbers!"
   ]
  },
  {
   "cell_type": "code",
   "execution_count": 1,
   "id": "04be88a1",
   "metadata": {},
   "outputs": [],
   "source": [
    "ice_cream = int(9)\n",
    "sleep = int(8)\n",
    "happiness = '8.5'"
   ]
  },
  {
   "cell_type": "code",
   "execution_count": 2,
   "id": "e6cf0b91",
   "metadata": {},
   "outputs": [
    {
     "name": "stdout",
     "output_type": "stream",
     "text": [
      "8.5\n"
     ]
    }
   ],
   "source": [
    "def average(number1, number2):\n",
    "  return (number1 + number2) / 2\n",
    "\n",
    "hapiness = average(ice_cream, sleep)\n",
    "print (hapiness)"
   ]
  },
  {
   "cell_type": "code",
   "execution_count": 3,
   "id": "b69a81d6",
   "metadata": {},
   "outputs": [
    {
     "data": {
      "text/plain": [
       "int"
      ]
     },
     "execution_count": 3,
     "metadata": {},
     "output_type": "execute_result"
    }
   ],
   "source": [
    "type (ice_cream)"
   ]
  },
  {
   "cell_type": "code",
   "execution_count": 4,
   "id": "1621f489",
   "metadata": {},
   "outputs": [
    {
     "data": {
      "text/plain": [
       "int"
      ]
     },
     "execution_count": 4,
     "metadata": {},
     "output_type": "execute_result"
    }
   ],
   "source": [
    "type (sleep)"
   ]
  },
  {
   "cell_type": "code",
   "execution_count": 5,
   "id": "66c95904",
   "metadata": {},
   "outputs": [
    {
     "data": {
      "text/plain": [
       "float"
      ]
     },
     "execution_count": 5,
     "metadata": {},
     "output_type": "execute_result"
    }
   ],
   "source": [
    "type (hapiness)"
   ]
  },
  {
   "cell_type": "markdown",
   "id": "e5add843",
   "metadata": {},
   "source": [
    "# Hapiness is no longer a string!"
   ]
  },
  {
   "cell_type": "code",
   "execution_count": 6,
   "id": "bbf1edaf",
   "metadata": {},
   "outputs": [
    {
     "name": "stdout",
     "output_type": "stream",
     "text": [
      "My name is Brianna and I give eating ice cream a score of 9 out of 10! My sleeping enjoyment rating is 8 / 10! Based on the factors above, my happiness rating is 8.5 out of 10 or 8.5 %!\n"
     ]
    }
   ],
   "source": [
    "text = f'My name is Brianna and I give eating ice cream a score of {ice_cream} out of 10! My sleeping enjoyment rating is {sleep} / 10! Based on the factors above, my happiness rating is {hapiness} out of 10 or {hapiness} %!'\n",
    "print(text)"
   ]
  },
  {
   "cell_type": "markdown",
   "id": "aa90bf0d",
   "metadata": {},
   "source": [
    "# Exercise 2.2 - Creating and changing lists\n",
    ": Table 2.5. FMI observation stations and the years in which they began operating.\n",
    "\n",
    "    FMI station name\tFirst year of operation\tGroup\n",
    "    lighthouse\t2003\t1\n",
    "    Harmaja\t1989\t1\n",
    "    Suomenlinna aaltopoiju\t2016\t1\n",
    "    Kumpula\t2005\t1\n",
    "    Kaisaniemi\t1844\t1\n",
    "    Malmi airfield\t1937\t2\n",
    "    Vuosaari harbour\t2012\t2\n",
    "    Kaivopuisto\t1904\t2\n",
    "\n",
    "For this exercise you should use the data in Table 2.5 to:\n",
    "- Create two lists for the station names and first years of operation for the stations in Group 1 in Table 2.5. Be sure to list the values in the order they appear in the table.\n",
    "- Modify the lists you just created to add the values Group 2, again keeping them in the same order.\n",
    "- Sort the two lists, sorting the first in alphabetical order and the second so that the most recent starting year is first\n",
    "    - Do you see any problems with how the lists have been sorted?\n",
    "    - Python has a function called zip() that might be helpful in solving the sorting issue. Search online to see whether you can find a way to use zip() to solve the problem with the two lists."
   ]
  },
  {
   "cell_type": "code",
   "execution_count": 28,
   "id": "98aa94ce",
   "metadata": {},
   "outputs": [],
   "source": [
    "FMI_station_name = [\n",
    "                    'lighthouse',\n",
    "                    'Harmaja',\n",
    "                    'Suomenlinna aaltopoiju',\n",
    "                    'Kaisaniemi',\n",
    "                   'Malmi airfield',\n",
    "                    'Vuosaari harbour',\n",
    "                    'Kaivopuisto' ]\n",
    "\n",
    "first_year_of_operation = [2003,1989,2016,2005,1844,1937,2021,1904]"
   ]
  },
  {
   "cell_type": "code",
   "execution_count": 16,
   "id": "6b344321",
   "metadata": {},
   "outputs": [],
   "source": [
    "FMI_station_name_group2 = ['Malmi airfield', 'Vuosaari harbour', 'Kaivopuisto']\n",
    "\n",
    "first_year_of_operation_group2 = [1937,2012, 1904]\n",
    "\n",
    "FMI_station_name = FMI_station_name + FMI_station_name_group2\n",
    "first_year_of_operation = first_year_of_operation + first_year_of_operation_group2"
   ]
  },
  {
   "cell_type": "code",
   "execution_count": 17,
   "id": "e4b5ead9",
   "metadata": {},
   "outputs": [
    {
     "data": {
      "text/plain": [
       "['lighthouse',\n",
       " 'Harmaja',\n",
       " 'Suomenlinna aaltopoiju',\n",
       " 'Kaisaniemi',\n",
       " 'Malmi airfield',\n",
       " 'Vuosaari harbour',\n",
       " 'Kaivopuisto',\n",
       " 'Malmi airfield',\n",
       " 'Vuosaari harbour',\n",
       " 'Kaivopuisto']"
      ]
     },
     "execution_count": 17,
     "metadata": {},
     "output_type": "execute_result"
    }
   ],
   "source": [
    "FMI_station_name"
   ]
  },
  {
   "cell_type": "code",
   "execution_count": 27,
   "id": "d549bb4f",
   "metadata": {},
   "outputs": [
    {
     "data": {
      "text/plain": [
       "['Harmaja',\n",
       " 'Kaisaniemi',\n",
       " 'Kaivopuisto',\n",
       " 'Kaivopuisto',\n",
       " 'Malmi airfield',\n",
       " 'Malmi airfield',\n",
       " 'Suomenlinna aaltopoiju',\n",
       " 'Vuosaari harbour',\n",
       " 'Vuosaari harbour',\n",
       " 'lighthouse']"
      ]
     },
     "execution_count": 27,
     "metadata": {},
     "output_type": "execute_result"
    }
   ],
   "source": [
    "sorted_FMI_station_name = sorted(FMI_station_name)\n",
    "FMI_station_name"
   ]
  },
  {
   "cell_type": "code",
   "execution_count": 19,
   "id": "e49990b8",
   "metadata": {
    "scrolled": true
   },
   "outputs": [
    {
     "data": {
      "text/plain": [
       "[2021, 2016, 2012, 2005, 2003, 1989, 1937, 1937, 1904, 1904, 1844]"
      ]
     },
     "execution_count": 19,
     "metadata": {},
     "output_type": "execute_result"
    }
   ],
   "source": [
    "first_year_of_operation.sort(reverse=True)\n",
    "first_year_of_operation"
   ]
  },
  {
   "cell_type": "code",
   "execution_count": 34,
   "id": "8e5be575",
   "metadata": {},
   "outputs": [
    {
     "data": {
      "text/plain": [
       "['lighthouse',\n",
       " 'Harmaja',\n",
       " 'Suomenlinna aaltopoiju',\n",
       " 'Kaisaniemi',\n",
       " 'Malmi airfield',\n",
       " 'Vuosaari harbour',\n",
       " 'Kaivopuisto']"
      ]
     },
     "execution_count": 34,
     "metadata": {},
     "output_type": "execute_result"
    }
   ],
   "source": [
    "FMI_station_name"
   ]
  },
  {
   "cell_type": "code",
   "execution_count": 37,
   "id": "b1e325bb",
   "metadata": {},
   "outputs": [],
   "source": [
    "zipped = zip(FMI_station_name,first_year_of_operation)\n",
    "zipped = list(zipped)"
   ]
  },
  {
   "cell_type": "code",
   "execution_count": 39,
   "metadata": {},
   "outputs": [
    {
     "name": "stdout",
     "output_type": "stream",
     "text": [
      "Initial zipped list -  [('lighthouse', 2003), ('Harmaja', 1989), ('Suomenlinna aaltopoiju', 2016), ('Kaisaniemi', 2005), ('Malmi airfield', 1844), ('Vuosaari harbour', 1937), ('Kaivopuisto', 2021)]\n"
     ]
    }
   ],
   "source": [
    "# Printing zipped list\n",
    "print(\"Initial zipped list - \", str(zipped))"
   ]
  },
  {
   "cell_type": "code",
   "execution_count": 45,
   "id": "93a762cc",
   "metadata": {},
   "outputs": [],
   "source": [
    "# Using sorted and lambda\n",
    "res = sorted(zipped, key = lambda x: x[1])"
   ]
  },
  {
   "cell_type": "code",
   "execution_count": 43,
   "id": "a645c0a4",
   "metadata": {},
   "outputs": [
    {
     "data": {
      "text/plain": [
       "[('Malmi airfield', 1844),\n",
       " ('Vuosaari harbour', 1937),\n",
       " ('Harmaja', 1989),\n",
       " ('lighthouse', 2003),\n",
       " ('Kaisaniemi', 2005),\n",
       " ('Suomenlinna aaltopoiju', 2016),\n",
       " ('Kaivopuisto', 2021)]"
      ]
     },
     "execution_count": 43,
     "metadata": {},
     "output_type": "execute_result"
    }
   ],
   "source": [
    "list(res)"
   ]
  },
  {
   "cell_type": "markdown",
   "id": "0fb04e37",
   "metadata": {},
   "source": [
    "## Another method"
   ]
  },
  {
   "cell_type": "code",
   "execution_count": 36,
   "id": "379ba3dd",
   "metadata": {},
   "outputs": [
    {
     "data": {
      "text/plain": [
       "['Harmaja',\n",
       " 'Kaisaniemi',\n",
       " 'Kaivopuisto',\n",
       " 'Kaivopuisto',\n",
       " 'lighthouse',\n",
       " 'Malmi airfield',\n",
       " 'Malmi airfield',\n",
       " 'Suomenlinna aaltopoiju',\n",
       " 'Vuosaari harbour',\n",
       " 'Vuosaari harbour']"
      ]
     },
     "execution_count": 36,
     "metadata": {},
     "output_type": "execute_result"
    }
   ],
   "source": [
    "FMI_station_name = sorted(FMI_station_name, key=str.casefold)\n",
    "FMI_station_name"
   ]
  },
  {
   "cell_type": "markdown",
   "id": "b7f3a604",
   "metadata": {},
   "source": [
    "# Exercise 2.3 - Lists and index values\n",
    ": Table 2.6. Monthly average temperatures recorded at the Helsinki Malmi airport.\n",
    "\n",
    "Month\tTemperature (°C)\n",
    "January\t-3.5\n",
    "February\t-4.5\n",
    "March\t-1.0\n",
    "April\t4.0\n",
    "May\t10.0\n",
    "June\t15.0\n",
    "July\t18.0\n",
    "August\t16.0\n",
    "September\t11.5\n",
    "October\t6.0\n",
    "November\t2.0\n",
    "December\t-1.5\n",
    "For this exercise you should use the data in Table 2.6 to:\n",
    "\n",
    "Create two lists with the months and their average temperatures.\n",
    "Use a print statement to produce output like that below, where the months and temperatures are selected using index values in the corresponding lists.\n",
    "The average temperature in Helsinki in March is -1.0"
   ]
  },
  {
   "cell_type": "code",
   "execution_count": 49,
   "id": "dfa47647",
   "metadata": {},
   "outputs": [],
   "source": [
    "month = ['January',\n",
    "            'February',\n",
    "            'March',\n",
    "            'April',\n",
    "            'May',\n",
    "            'June',\n",
    "            'July',\n",
    "            'August',\n",
    "            'September',\n",
    "            'October',\n",
    "            'November',\n",
    "            'December']"
   ]
  },
  {
   "cell_type": "code",
   "execution_count": 50,
   "id": "ddffdb87",
   "metadata": {},
   "outputs": [
    {
     "data": {
      "text/plain": [
       "['January',\n",
       " 'February',\n",
       " 'March',\n",
       " 'April',\n",
       " 'May',\n",
       " 'June',\n",
       " 'July',\n",
       " 'August',\n",
       " 'September',\n",
       " 'October',\n",
       " 'November',\n",
       " 'December']"
      ]
     },
     "execution_count": 50,
     "metadata": {},
     "output_type": "execute_result"
    }
   ],
   "source": [
    "month"
   ]
  },
  {
   "cell_type": "code",
   "execution_count": 54,
   "id": "f3a9d8ce",
   "metadata": {},
   "outputs": [],
   "source": [
    "temp = [-3.5,\n",
    "        -4.5,\n",
    "        -1.0,\n",
    "        4.0,\n",
    "        10.0,\n",
    "        15.0,\n",
    "        18.0,\n",
    "        16.0,\n",
    "        11.5,\n",
    "        6.0,\n",
    "        2.0,\n",
    "        -1.5]\n"
   ]
  },
  {
   "cell_type": "code",
   "execution_count": 57,
   "id": "269b58b1",
   "metadata": {},
   "outputs": [
    {
     "name": "stdout",
     "output_type": "stream",
     "text": [
      "The average temperature in Helsinki in January is -3.5\n",
      "The average temperature in Helsinki in February is -4.5\n",
      "The average temperature in Helsinki in March is -1.0\n",
      "The average temperature in Helsinki in April is 4.0\n",
      "The average temperature in Helsinki in May is 10.0\n",
      "The average temperature in Helsinki in June is 15.0\n",
      "The average temperature in Helsinki in July is 18.0\n",
      "The average temperature in Helsinki in August is 16.0\n",
      "The average temperature in Helsinki in September is 11.5\n",
      "The average temperature in Helsinki in October is 6.0\n",
      "The average temperature in Helsinki in November is 2.0\n",
      "The average temperature in Helsinki in December is -1.5\n"
     ]
    }
   ],
   "source": [
    "for i in range (len(month)):\n",
    "    print(f'The average temperature in Helsinki in {month[i]} is {temp[i]}')"
   ]
  },
  {
   "cell_type": "markdown",
   "id": "37ac458e",
   "metadata": {},
   "source": [
    "# Exercise 2.4 - Batch processing files with a for loop\n",
    "Batch processing is a common task in Python, where a set of data and/or files are analyzed one after another using the same script or program. In this exercise your goal is to produce a Python list of filenames that could be used to batch process the data they contain.\n",
    "\n",
    "For this exercise you should:\n",
    "\n",
    "Use a for loop to create a Python list that produces the output below when you print the list:\n",
    "\n",
    "['Station_0.txt', 'Station_1.txt', 'Station_2.txt', 'Station_3.txt',\n",
    " 'Station_4.txt', 'Station_5.txt', 'Station_6.txt', 'Station_7.txt',\n",
    " 'Station_8.txt', 'Station_9.txt', 'Station_10.txt', 'Station_11.txt',\n",
    " 'Station_12.txt', 'Station_13.txt', 'Station_14.txt', 'Station_15.txt',\n",
    " 'Station_16.txt', 'Station_17.txt', 'Station_18.txt', 'Station_19.txt',\n",
    " 'Station_20.txt']"
   ]
  },
  {
   "cell_type": "code",
   "execution_count": 60,
   "id": "0d2a48d9",
   "metadata": {},
   "outputs": [],
   "source": [
    "station_name = 'Station_' + str(0) + '.txt'"
   ]
  },
  {
   "cell_type": "code",
   "execution_count": 62,
   "id": "19d146ee",
   "metadata": {},
   "outputs": [],
   "source": [
    "stations = []\n",
    "for i in range (21):\n",
    "    station_name = 'Station_' + str(i) + '.txt'\n",
    "    stations.append(station_name)"
   ]
  },
  {
   "cell_type": "code",
   "execution_count": 63,
   "id": "af19ad3f",
   "metadata": {},
   "outputs": [
    {
     "data": {
      "text/plain": [
       "['Station_0.txt',\n",
       " 'Station_1.txt',\n",
       " 'Station_2.txt',\n",
       " 'Station_3.txt',\n",
       " 'Station_4.txt',\n",
       " 'Station_5.txt',\n",
       " 'Station_6.txt',\n",
       " 'Station_7.txt',\n",
       " 'Station_8.txt',\n",
       " 'Station_9.txt',\n",
       " 'Station_10.txt',\n",
       " 'Station_11.txt',\n",
       " 'Station_12.txt',\n",
       " 'Station_13.txt',\n",
       " 'Station_14.txt',\n",
       " 'Station_15.txt',\n",
       " 'Station_16.txt',\n",
       " 'Station_17.txt',\n",
       " 'Station_18.txt',\n",
       " 'Station_19.txt',\n",
       " 'Station_20.txt']"
      ]
     },
     "execution_count": 63,
     "metadata": {},
     "output_type": "execute_result"
    }
   ],
   "source": [
    "stations"
   ]
  },
  {
   "cell_type": "code",
   "execution_count": null,
   "id": "d15b46bc",
   "metadata": {},
   "outputs": [],
   "source": []
  }
 ],
 "metadata": {
  "kernelspec": {
   "display_name": "Python 3",
   "language": "python",
   "name": "python3"
  },
  "language_info": {
   "codemirror_mode": {
    "name": "ipython",
    "version": 3
   },
   "file_extension": ".py",
   "mimetype": "text/x-python",
   "name": "python",
   "nbconvert_exporter": "python",
   "pygments_lexer": "ipython3",
   "version": "3.10.4"
  },
  "vscode": {
   "interpreter": {
    "hash": "e2e13e9da226161ba8eabdb748f1a8dd4a3b8a8f9aa16fedf58ae84e73922a42"
   }
  }
 },
 "nbformat": 4,
 "nbformat_minor": 5
}
